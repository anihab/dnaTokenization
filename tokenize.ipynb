{
  "nbformat": 4,
  "nbformat_minor": 0,
  "metadata": {
    "colab": {
      "provenance": [],
      "authorship_tag": "ABX9TyM4egH/AUz6u0ISmWQAH82b",
      "include_colab_link": true
    },
    "kernelspec": {
      "name": "python3",
      "display_name": "Python 3"
    },
    "language_info": {
      "name": "python"
    }
  },
  "cells": [
    {
      "cell_type": "markdown",
      "metadata": {
        "id": "view-in-github",
        "colab_type": "text"
      },
      "source": [
        "<a href=\"https://colab.research.google.com/github/anihab/dnaTokenization/blob/main/tokenize.ipynb\" target=\"_parent\"><img src=\"https://colab.research.google.com/assets/colab-badge.svg\" alt=\"Open In Colab\"/></a>"
      ]
    },
    {
      "cell_type": "code",
      "source": [
        "# Libraries\n",
        "import argparse\n",
        "import os\n",
        "\n",
        "import pandas as pd\n",
        "import numpy as np\n",
        "\n",
        "from tokenizers import Tokenizer, models, trainers, normalizers\n",
        "from transformers import PreTrainedTokenizerFast"
      ],
      "metadata": {
        "id": "pryZNDRNrBQu"
      },
      "execution_count": null,
      "outputs": []
    },
    {
      "cell_type": "code",
      "source": [
        "# Globals\n",
        "MAX_TOKENS = 510"
      ],
      "metadata": {
        "id": "ZxAhH2qUrG-q"
      },
      "execution_count": null,
      "outputs": []
    },
    {
      "cell_type": "code",
      "source": [
        "# Define inputs\n",
        "BACTERIA_PATH = \"\"\n",
        "PHAGE_PATH = \"\"\n",
        "OUTPUT_PATH = \"\"\n",
        "TOKENIZER_PATH = \"\""
      ],
      "metadata": {
        "id": "-pUerAgcsC7_"
      },
      "execution_count": null,
      "outputs": []
    },
    {
      "cell_type": "markdown",
      "source": [
        "Given\n",
        "- a directory or list of selected bacteria sequences in csv files\n",
        "- a directory or list of phage sequences in csv files\n",
        "- a tokenizer (vocabulary json file)\n",
        "\n",
        "Tokenize all files"
      ],
      "metadata": {
        "id": "ummxpoBErAyG"
      }
    },
    {
      "cell_type": "markdown",
      "source": [
        "###Step 1\n",
        "process files"
      ],
      "metadata": {
        "id": "fT9Yw8S0tdHk"
      }
    },
    {
      "cell_type": "code",
      "source": [
        "def process_files(input_path, output_path):\n",
        "  # the input path is a .txt file list\n",
        "  if input_path.endswith('.txt'):\n",
        "    with open(input_path, 'r') as list:\n",
        "      for f in list:\n",
        "        f = f.strip()\n",
        "        filename = os.path.basename(f)\n",
        "        if os.path.isfile(f) and not is_processed(output_path, filename):\n",
        "          tokenize(f, output_path)\n",
        "  # the input path is a directory\n",
        "  else:\n",
        "    for filename in os.listdir(input_path):\n",
        "      f = os.path.join(input_path, filename)\n",
        "      if os.path.isfile(f) and not is_processed(output_path, filename):\n",
        "        tokenize(f, output_path)\n",
        "\n",
        "def is_processed(output_path, filename):\n",
        "  '''/\n",
        "  Determines whether or not a file has already been processed by checking\n",
        "  if the output filename exists in the output directory and has a size\n",
        "  greater than 0.\n",
        "  '''\n",
        "  filepath = os.path.join(output_path, filename.split('.')[0]  + '_tokenized.csv')\n",
        "  if os.path.isfile(filepath) and os.path.getsize(filepath) > 0:\n",
        "    return True\n",
        "  else:\n",
        "    return False"
      ],
      "metadata": {
        "id": "-QF67UlitYvG"
      },
      "execution_count": null,
      "outputs": []
    },
    {
      "cell_type": "markdown",
      "source": [
        "###Step 2\n",
        "\n",
        "tokenize sequences according to tokenizer"
      ],
      "metadata": {
        "id": "8nWJXcBBti77"
      }
    },
    {
      "cell_type": "code",
      "execution_count": null,
      "metadata": {
        "id": "6yigjghYq3tF"
      },
      "outputs": [],
      "source": [
        "def tokenize(filepath, output_path):\n",
        "  sequences = []\n",
        "  tokens = []\n",
        "\n",
        "  filename = os.path.basename(filepath)\n",
        "  filename = filename.split('.')[0]\n",
        "\n",
        "  df = pd.read_csv(filepath)\n",
        "  sequences = df['sequence'].values.tolist()\n",
        "\n",
        "  # tokenize\n",
        "  for seq in range(len(sequences)):\n",
        "    tokens.append(seq2bpe(sequences[seq]))\n",
        "  df['tokenized'] = tokens\n",
        "\n",
        "  # shuffle and save to csv\n",
        "  df = df.sample(frac=1).reset_index(drop=True)\n",
        "  write_csv(filename, df, output_path)\n",
        "  return df\n",
        "\n",
        "def seq2bpe(sequence):\n",
        "  '''\\\n",
        "  convert a sequence to byte pair encodings\n",
        "  '''\n",
        "  tokenizer = PreTrainedTokenizerFast(TOKENIZER_PATH)\n",
        "  encoded_input = tokenizer(sequence, return_tensors=\"pt\")\n",
        "  token_ids = encoded_input.input_ids\n",
        "  output = \" \".join(tokenizer.batch_decode(token_ids))\n",
        "  return output"
      ]
    },
    {
      "cell_type": "markdown",
      "source": [
        "###Step 3\n",
        "\n",
        "save to csv"
      ],
      "metadata": {
        "id": "JvLjD8uit9y5"
      }
    },
    {
      "cell_type": "code",
      "source": [
        "def write_csv(filename, df, output_path):\n",
        "  \"\"\"\\\n",
        "  save the given dataframe to two separate csv files:\n",
        "  1. _full.csv includes the name, start position, sequence, tokenized\n",
        "   sequence, and label.\n",
        "  2. _tokenized.csv includes the tokenized sequence and the label.\n",
        "  \"\"\"\n",
        "  df.to_csv(output_path + \"/\" + filename + '_full.csv', encoding='utf-8', index=False)\n",
        "  tokenized = df[['tokenized', 'label']]\n",
        "  tokenized.to_csv(output_path + '/' + filename + '_tokenized.csv', encoding='utf-8', index=False, header=False, sep='\\t')"
      ],
      "metadata": {
        "id": "emyL1IBguAO1"
      },
      "execution_count": null,
      "outputs": []
    },
    {
      "cell_type": "markdown",
      "source": [
        "###Main"
      ],
      "metadata": {
        "id": "q-HCb4kQvIq0"
      }
    },
    {
      "cell_type": "code",
      "source": [
        "def main():\n",
        "  # process and tokenize bacteria files\n",
        "  process_files(BACTERIA_PATH, OUTPUT_PATH)\n",
        "  # process and tokenize phage files\n",
        "  process_files(PHAGE_PATH, OUTPUT_PATH)\n",
        "\n",
        "if __name__ == \"__main__\":\n",
        "    main()"
      ],
      "metadata": {
        "id": "axh2j764wOzR"
      },
      "execution_count": null,
      "outputs": []
    }
  ]
}