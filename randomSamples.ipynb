{
  "nbformat": 4,
  "nbformat_minor": 0,
  "metadata": {
    "colab": {
      "provenance": [],
      "authorship_tag": "ABX9TyMrBox9U6SGYDf2GD9zSZjT",
      "include_colab_link": true
    },
    "kernelspec": {
      "name": "python3",
      "display_name": "Python 3"
    },
    "language_info": {
      "name": "python"
    }
  },
  "cells": [
    {
      "cell_type": "markdown",
      "metadata": {
        "id": "view-in-github",
        "colab_type": "text"
      },
      "source": [
        "<a href=\"https://colab.research.google.com/github/anihab/dnaTokenization/blob/main/randomSamples.ipynb\" target=\"_parent\"><img src=\"https://colab.research.google.com/assets/colab-badge.svg\" alt=\"Open In Colab\"/></a>"
      ]
    },
    {
      "cell_type": "code",
      "source": [
        "# Libraries\n",
        "import multiprocessing\n",
        "processes=multiprocessing.cpu_count()\n",
        "print(\"The number of processes:\")\n",
        "print(processes)\n",
        "\n",
        "import argparse\n",
        "import gzip\n",
        "import os\n",
        "import math\n",
        "import re\n",
        "\n",
        "import pandas as pd\n",
        "import numpy as np"
      ],
      "metadata": {
        "id": "ZkpwfRFU03UP"
      },
      "execution_count": null,
      "outputs": []
    },
    {
      "cell_type": "markdown",
      "source": [
        "Generate Random Samples and Process Files"
      ],
      "metadata": {
        "id": "RD66hdJ300UM"
      }
    },
    {
      "cell_type": "code",
      "execution_count": null,
      "metadata": {
        "id": "f7XQwkFH0qrG"
      },
      "outputs": [],
      "source": [
        "def generate_random_samples(seq_type, sequence, num_samples, desired_coverage, min_length, max_length):\n",
        "    samples = []\n",
        "    seq_length = len(sequence)\n",
        "\n",
        "    # Random start between 0 and 1000\n",
        "    start = 0\n",
        "    actual_coverage = 0\n",
        "\n",
        "    while num_samples > 0:\n",
        "        segment_length = random.randint(min_length, max_length)\n",
        "        start_position = random.randint(start, seq_length-segment_length-1)\n",
        "        end_position = start_position + segment_length\n",
        "\n",
        "        sample = sequence[start_position:end_position]\n",
        "        samples.append((start_position, end_position, sample))\n",
        "        num_samples -= 1\n",
        "        actual_coverage += segment_length\n",
        "\n",
        "    return samples"
      ]
    },
    {
      "cell_type": "code",
      "source": [
        "# Function to process bacterial files\n",
        "def process_bacterial_file(bacteria_input_file, output_dir, coverage_bacteria, min_length_bacteria, max_length_bacteria):\n",
        "    filename = os.path.basename(bacteria_input_file)\n",
        "    root_filename = filename.split(\".\",1)[0]\n",
        "    output_path = os.path.join(output_dir, root_filename)\n",
        "\n",
        "    print(f\"Processing bacterial file: {filename}\")\n",
        "    with open(bacteria_input_file, \"r\") as input_file, open(output_path, \"w\") as output_file:\n",
        "        for record in SeqIO.parse(input_file, \"fasta\"):\n",
        "            coverage = coverage_bacteria\n",
        "            min_length = min_length_bacteria\n",
        "            max_length = max_length_bacteria\n",
        "            average_length = (min_length + max_length)/2\n",
        "            num_samples = (len(record.seq)*coverage)//average_length\n",
        "            samples = generate_random_samples('bacteria', record.seq, num_samples,coverage, min_length, max_length)\n",
        "            for i, (start, end, sample) in enumerate(samples):\n",
        "                output_file.write(f\"{record.id},{start},{end},{end-start},{sample}\\n\")\n",
        "\n",
        "# Function to process phage files\n",
        "def process_phage_file(phage_input_file, output_dir, coverage_phage, min_length_phage, max_length_phage):\n",
        "    filename = os.path.basename(phage_input_file)\n",
        "    root_filename = filename.split(\".\",1)[0]\n",
        "    output_path = os.path.join(output_dir, root_filename)\n",
        "    print(f\"Processing phage file: {filename}\")\n",
        "    with open(phage_input_file, \"r\") as input_file, open(output_path, \"w\") as output_file:\n",
        "        for record in SeqIO.parse(input_file, \"fasta\"):\n",
        "            coverage = coverage_phage\n",
        "            min_length = min_length_phage\n",
        "            max_length = max_length_phage\n",
        "            average_length = (min_length + max_length)/2\n",
        "            num_samples = (len(record.seq)*coverage)//average_length\n",
        "            samples = generate_random_samples('phage', record.seq, num_samples, coverage, min_length, max_length)\n",
        "            for i, (start, end, sample) in enumerate(samples):\n",
        "                output_file.write(f\"{record.id},{start},{end},{end-start},{sample}\\n\")"
      ],
      "metadata": {
        "id": "TzA81oy20vA1"
      },
      "execution_count": null,
      "outputs": []
    },
    {
      "cell_type": "markdown",
      "source": [
        "###Main"
      ],
      "metadata": {
        "id": "p3AmNiy81IE6"
      }
    },
    {
      "cell_type": "code",
      "source": [
        "# define inputs and outputs\n",
        "bacteria_input_dir=\"/uufs/chpc.utah.edu/common/home/u1323098/sundar-group-space2/PHAGE/DATASETS/BACTERIA_RAW/FASTA/ncbi-genomes-2023-09-02/FASTA\"\n",
        "phage_input_dir=\"/uufs/chpc.utah.edu/common/home/u1323098/sundar-group-space2/PHAGE/DATASETS/PHAGE_RAW/GenomesDB/FASTA\"\n",
        "bacteria_output_dir=\"/uufs/chpc.utah.edu/common/home/u1323098/sundar-group-space2/PHAGE/DATASETS/BACTERIA_RAW/FASTA/ncbi-genomes-2023-09-02/FASTA/TEST_OUTPUT/bacteria\"\n",
        "phage_output_dir=\"/uufs/chpc.utah.edu/common/home/u1323098/sundar-group-space2/PHAGE/DATASETS/BACTERIA_RAW/FASTA/ncbi-genomes-2023-09-02/FASTA/TEST_OUTPUT/phage\"\n",
        "\n",
        "coverage_bacteria = 0.25\n",
        "coverage_phage = 0.9\n",
        "\n",
        "min_length_bacteria = 1500\n",
        "max_length_bacteria = 2000\n",
        "min_length_phage = 1000\n",
        "max_length_phage = 1500"
      ],
      "metadata": {
        "id": "8iOQshG01DiL"
      },
      "execution_count": null,
      "outputs": []
    },
    {
      "cell_type": "code",
      "source": [
        "# process bacterial and phage files in parallel\n",
        "pool = multiprocessing.Pool(processes=multiprocessing.cpu_count())\n",
        "\n",
        "bacterial_files = [os.path.join(bacteria_input_dir, filename) for filename in os.listdir(bacteria_input_dir) if filename.endswith(\".fasta\") or filename.endswith(\".fna\")]\n",
        "phage_files = [os.path.join(phage_input_dir, filename) for filename in os.listdir(phage_input_dir) if filename.endswith(\".fasta\")]\n",
        "\n",
        "pool.starmap(process_bacterial_file, [(file, bacteria_output_dir, coverage_bacteria, min_length_bacteria, max_length_bacteria) for file in bacterial_files])\n",
        "pool.starmap(process_phage_file, [(file, phage_output_dir, coverage_phage, min_length_phage, max_length_phage) for file in phage_files])\n",
        "\n",
        "pool.close()\n",
        "pool.join()"
      ],
      "metadata": {
        "id": "tpQIfZvS1LCG"
      },
      "execution_count": null,
      "outputs": []
    }
  ]
}